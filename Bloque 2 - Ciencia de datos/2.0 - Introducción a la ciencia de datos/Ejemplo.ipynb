{
 "cells": [
  {
   "cell_type": "markdown",
   "id": "b9825e7a-af97-49d9-b37b-37d9b6a6fbf4",
   "metadata": {},
   "source": [
    "# Ejemplo de Jupyter Notebook"
   ]
  },
  {
   "cell_type": "code",
   "execution_count": 3,
   "id": "1b2ef598-471b-4f88-bc5a-36c2cb718c91",
   "metadata": {},
   "outputs": [
    {
     "name": "stdout",
     "output_type": "stream",
     "text": [
      "Hola mundo!\n"
     ]
    }
   ],
   "source": [
    "print(\"Hola mundo!\")"
   ]
  },
  {
   "cell_type": "markdown",
   "id": "9bd14bc7",
   "metadata": {},
   "source": [
    "Esta es una introducción a la ciencia de datos\n",
    "\n",
    "**negrita**\n",
    "\n",
    "_cursiva_\n",
    "\n",
    "# titulos \n",
    "## subtitulo\n",
    "\n",
    "---\n",
    "\n",
    "$E = m  c^ 2$"
   ]
  },
  {
   "cell_type": "markdown",
   "id": "9201a796",
   "metadata": {},
   "source": [
    "# Normal\n",
    "\n",
    "$n()$"
   ]
  },
  {
   "cell_type": "code",
   "execution_count": 4,
   "id": "54e070b6",
   "metadata": {},
   "outputs": [
    {
     "name": "stdout",
     "output_type": "stream",
     "text": [
      "Esta es una parte de estadistica con la normal\n"
     ]
    }
   ],
   "source": [
    "print(\"Esta es una parte de estadistica con la normal\")"
   ]
  }
 ],
 "metadata": {
  "kernelspec": {
   "display_name": ".venv",
   "language": "python",
   "name": "python3"
  },
  "language_info": {
   "codemirror_mode": {
    "name": "ipython",
    "version": 3
   },
   "file_extension": ".py",
   "mimetype": "text/x-python",
   "name": "python",
   "nbconvert_exporter": "python",
   "pygments_lexer": "ipython3",
   "version": "3.13.3"
  }
 },
 "nbformat": 4,
 "nbformat_minor": 5
}
